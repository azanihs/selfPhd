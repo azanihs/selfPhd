{
 "cells": [
  {
   "cell_type": "markdown",
   "metadata": {
    "collapsed": true
   },
   "source": [
    "# WEEK 01 : Introduction to Machine Learning\n"
   ]
  },
  {
   "cell_type": "markdown",
   "metadata": {},
   "source": [
    "__Objective for this week:__\n",
    "+ Learn the basic notion of machine learning\n",
    "+ Learn the type of machine learning algorithm\n",
    "    "
   ]
  },
  {
   "cell_type": "markdown",
   "metadata": {},
   "source": [
    "##  1. Intoduction\n",
    "\n",
    "Definition of Machine learning: A computer program is said to learn from experience E with respect to some class task T and performance measure P, if its performance at tasks in T, as measuredby P, improves with experience E"
   ]
  },
  {
   "cell_type": "markdown",
   "metadata": {},
   "source": [
    "## 2. Model & Cost Function\n",
    "\n",
    "### 2.1 Model Representation\n",
    "#### Supervised Learning\n",
    "\n",
    "Supervised learning: type of learning algorithm in which right answer was given. The examples of SPV Lerning are classificationd and regression.\n",
    "\n",
    "+ Regression problem\n",
    "\n",
    "The main purpose of regression algorithm is to predict certain value (a continous value) based on model extracted from historical data\n",
    "\n",
    "\n",
    "\n",
    "| feature 1 | feature 2 | ... | feature n | output |\n",
    "|----------------|----------------|-----|-------------------|--------|\n",
    "| value for feature 1|value for feature 1|...|value for feature n| value for output|\n",
    "\n",
    "\n",
    "__Basic Notation in Regression__\n",
    "\n",
    "+ m =  number of training examples\n",
    "+ x = \"input\" variable / features\n",
    "+ y = \"output\" variable/ \"targer\"\n",
    "\n",
    "All training set will produce a hypothesis function (h) through a learning algorithm. This hypothesis function will be tested using other data set and the output produced will be compare to actual value.\n",
    "\n",
    "h(x) = w<sub>0</sub> + w<sub>1</sub>x1 + w<sub>2</sub>x2\n",
    "\n",
    "### 2.2 Cost Function\n",
    "![Minion](http://octodex.github.com/images/minion.png)"
   ]
  },
  {
   "cell_type": "code",
   "execution_count": null,
   "metadata": {
    "collapsed": true
   },
   "outputs": [],
   "source": []
  },
  {
   "cell_type": "code",
   "execution_count": null,
   "metadata": {
    "collapsed": true
   },
   "outputs": [],
   "source": []
  }
 ],
 "metadata": {
  "kernelspec": {
   "display_name": "Python 2",
   "language": "python",
   "name": "python2"
  },
  "language_info": {
   "codemirror_mode": {
    "name": "ipython",
    "version": 2
   },
   "file_extension": ".py",
   "mimetype": "text/x-python",
   "name": "python",
   "nbconvert_exporter": "python",
   "pygments_lexer": "ipython2",
   "version": "2.7.13"
  }
 },
 "nbformat": 4,
 "nbformat_minor": 0
}
